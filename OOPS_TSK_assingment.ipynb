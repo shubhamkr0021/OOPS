{
 "cells": [
  {
   "cell_type": "markdown",
   "id": "6a80d311-34e9-498b-b866-05c117ede0e0",
   "metadata": {},
   "source": [
    "Q1, Create a vehicle class with an init method having instance variables as name_of_vehicle, max_speed\n",
    "and average_of_vehicle"
   ]
  },
  {
   "cell_type": "code",
   "execution_count": 1,
   "id": "78333e43-f521-49f8-855b-0e656dc5df50",
   "metadata": {},
   "outputs": [],
   "source": [
    "class Vehicle:\n",
    "    def __init__(self, name_of_vehicle, max_speed, average_of_vehicle):\n",
    "        self.name_of_vehicle = name_of_vehicle\n",
    "        self.max_speed = max_speed\n",
    "        self.average_of_vehicle = average_of_vehicle\n"
   ]
  },
  {
   "cell_type": "markdown",
   "id": "19e1177e-0065-4de5-b32a-1c50ca771928",
   "metadata": {},
   "source": [
    "Q2. Create a child class car from the vehicle class created in Que 1, which will inherit the vehicle class.\n",
    "Create a method named seating_capacity which takes capacity as an argument and returns the name of\n",
    "the vehicle and its seating capacity."
   ]
  },
  {
   "cell_type": "code",
   "execution_count": 7,
   "id": "a9b48ee1-f93f-4f27-af43-ac99a4ddfc93",
   "metadata": {},
   "outputs": [],
   "source": [
    "class Car(Vehicle):\n",
    "    def seating_capacity(self, capacity):\n",
    "        return (self.name_of_vehicle)\n"
   ]
  },
  {
   "cell_type": "markdown",
   "id": "91365ab4-c573-4ccf-9e96-cf68f3b3f970",
   "metadata": {},
   "source": [
    "Q3. What is multiple inheritance? Write a python code to demonstrate multiple inheritance"
   ]
  },
  {
   "cell_type": "code",
   "execution_count": 5,
   "id": "93102654-6c20-4cb5-bf92-8fca98019ed7",
   "metadata": {},
   "outputs": [
    {
     "name": "stdout",
     "output_type": "stream",
     "text": [
      "Parent1 method\n",
      "Parent2 method\n",
      "Child method\n"
     ]
    }
   ],
   "source": [
    "class Parent1:\n",
    "    def method1(self):\n",
    "        print(\"Parent1 method\")\n",
    "\n",
    "class Parent2:\n",
    "    def method2(self):\n",
    "        print(\"Parent2 method\")\n",
    "\n",
    "class Child(Parent1, Parent2):\n",
    "    def method3(self):\n",
    "        print(\"Child method\")\n",
    "\n",
    "child = Child()\n",
    "\n",
    "child.method1()\n",
    "child.method2()\n",
    "child.method3()\n"
   ]
  },
  {
   "cell_type": "markdown",
   "id": "7fcad38f-0dfb-4665-ab82-74167210999f",
   "metadata": {},
   "source": [
    "Q4. What are getter and setter in python? Create a class and create a getter and a setter method in this\n",
    "class."
   ]
  },
  {
   "cell_type": "code",
   "execution_count": 8,
   "id": "a02174b1-751c-43e7-8523-ef9b1514c5b6",
   "metadata": {},
   "outputs": [
    {
     "name": "stdout",
     "output_type": "stream",
     "text": [
      "42\n"
     ]
    }
   ],
   "source": [
    "class MyClass:\n",
    "    def __init__(self):\n",
    "        self._my_variable = None\n",
    "\n",
    "    def get_my_variable(self):\n",
    "        return self._my_variable\n",
    "\n",
    "    def set_my_variable(self, value):\n",
    "        self._my_variable = value\n",
    "\n",
    "obj = MyClass()\n",
    "obj.set_my_variable(42)\n",
    "value = obj.get_my_variable()\n",
    "print(value)\n"
   ]
  },
  {
   "cell_type": "markdown",
   "id": "4bef8881-469e-4e9e-93a4-46314804a010",
   "metadata": {},
   "source": [
    "Q5.What is method overriding in python? Write a python code to demonstrate method overriding."
   ]
  },
  {
   "cell_type": "code",
   "execution_count": 10,
   "id": "0e40d8d7-1cfa-4313-a1d9-82eba8a565b5",
   "metadata": {},
   "outputs": [
    {
     "name": "stdout",
     "output_type": "stream",
     "text": [
      "Cat says 'Meow'.\n",
      "Dog says 'Woof'.\n"
     ]
    }
   ],
   "source": [
    "class animal:\n",
    "    def make_sound(self):\n",
    "        print(\"animal makes a sound.\")\n",
    "\n",
    "class cat(animal):\n",
    "    def make_sound(self):\n",
    "        print(\"Cat says 'Meow'.\")\n",
    "\n",
    "class dog(animal):\n",
    "    def make_sound(self):\n",
    "        print(\"Dog says 'Woof'.\")\n",
    "\n",
    "cat = Cat()\n",
    "dog = Dog()\n",
    "\n",
    "cat.make_sound()\n",
    "dog.make_sound()\n"
   ]
  }
 ],
 "metadata": {
  "kernelspec": {
   "display_name": "Python 3 (ipykernel)",
   "language": "python",
   "name": "python3"
  },
  "language_info": {
   "codemirror_mode": {
    "name": "ipython",
    "version": 3
   },
   "file_extension": ".py",
   "mimetype": "text/x-python",
   "name": "python",
   "nbconvert_exporter": "python",
   "pygments_lexer": "ipython3",
   "version": "3.10.8"
  }
 },
 "nbformat": 4,
 "nbformat_minor": 5
}
