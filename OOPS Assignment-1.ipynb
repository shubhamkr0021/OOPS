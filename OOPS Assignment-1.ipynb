{
 "cells": [
  {
   "cell_type": "markdown",
   "id": "aa9eed33-3286-432f-9422-1d94ebb316ea",
   "metadata": {},
   "source": [
    "Q1. Explain Class and Object with respect to Object-Oriented Programming. Give a suitable example."
   ]
  },
  {
   "cell_type": "code",
   "execution_count": 4,
   "id": "f0e7a533-b256-4e23-b484-16bc6638404e",
   "metadata": {},
   "outputs": [
    {
     "name": "stdout",
     "output_type": "stream",
     "text": [
      "Mahindra\n",
      "Safari\n",
      "Mahindra Thar\n"
     ]
    }
   ],
   "source": [
    "''' A class is a blueprint or a template for creating objects.\n",
    " It defines the common attributes and behaviors that objects of the class will have.'''\n",
    "\n",
    "''' An object is an instance of a class. It represents a specific entity with its own state (attributes) and behavior (methods).\n",
    "Objects are created from a class, and they can interact with each other by invoking methods and accessing attributes defined in their class.'''\n",
    "\n",
    "class Car:\n",
    "    def __init__(self, make, model):\n",
    "        self.make = make\n",
    "        self.model = model\n",
    "\n",
    "    def drive(self):\n",
    "        print(self.make, self.model)\n",
    "\n",
    "car1 = Car(\"Mahindra\", \"Thar\")\n",
    "car2 = Car(\"Tata\", \"Safari\")\n",
    "\n",
    "print(car1.make)    \n",
    "print(car2.model)    \n",
    "car1.drive()         \n"
   ]
  },
  {
   "cell_type": "markdown",
   "id": "7173a6ae-2cde-473b-9709-2d730f32a1a5",
   "metadata": {},
   "source": [
    "Q2. Name the four pillars of OOPs."
   ]
  },
  {
   "cell_type": "code",
   "execution_count": null,
   "id": "a9e5bbd2-6cbf-4462-a00c-2b10de671b40",
   "metadata": {},
   "outputs": [],
   "source": [
    "'''\n",
    "Encapsulation\n",
    "Inheritance\n",
    "Polymorphism\n",
    "Abstraction\n",
    "'''"
   ]
  },
  {
   "cell_type": "markdown",
   "id": "79a00ad2-a5c5-497e-961b-8b1d55b81492",
   "metadata": {},
   "source": [
    "Q3. Explain why the __init__() function is used. Give a suitable example."
   ]
  },
  {
   "cell_type": "code",
   "execution_count": 8,
   "id": "66a8b1d0-647e-4a68-a9df-04ae029eaa09",
   "metadata": {},
   "outputs": [
    {
     "name": "stdout",
     "output_type": "stream",
     "text": [
      "shubham\n",
      "25\n"
     ]
    }
   ],
   "source": [
    "'''The __init__() function allows you to define the initial state of an object by setting its attributes to specific values. \n",
    "This helps ensure that the object starts with the desired initial values and is in a consistent state.'''\n",
    "\n",
    "\n",
    "class Person:\n",
    "    def __init__(self, name, age):\n",
    "        self.name = name\n",
    "        self.age = age\n",
    "\n",
    "person1 = Person(\"shubham\", 25)\n",
    "print(person1.name)\n",
    "print(person1.age) \n"
   ]
  },
  {
   "cell_type": "markdown",
   "id": "24f5e534-7cf1-476e-a5eb-8103212547f7",
   "metadata": {},
   "source": [
    "Q4. Why self is used in OOPs?"
   ]
  },
  {
   "cell_type": "code",
   "execution_count": null,
   "id": "814a6042-93bd-45cf-b760-c53b25d90bb2",
   "metadata": {},
   "outputs": [],
   "source": [
    "'''\"self\", we can access the attributes and methods of the current object within the class.\n",
    "It helps differentiate between local variables within a method and instance variables of a class'''"
   ]
  },
  {
   "cell_type": "markdown",
   "id": "137e80fe-bf50-478f-914c-753436474734",
   "metadata": {},
   "source": [
    "What is inheritance? Give an example for each type of inheritance."
   ]
  },
  {
   "cell_type": "code",
   "execution_count": 9,
   "id": "2298e0da-62c6-43f0-92c6-3e411b5ecaf7",
   "metadata": {},
   "outputs": [
    {
     "name": "stdout",
     "output_type": "stream",
     "text": [
      "Tata\n",
      "Driving a vehicle\n",
      "Engine started\n",
      "Method 1\n",
      "Method 2\n",
      "Derived method\n"
     ]
    }
   ],
   "source": [
    "'''Inheritance is a fundamental concept in object-oriented programming that allows a class to inherit properties and behaviors from another class.\n",
    "It promotes code reusability and the creation of a hierarchical structure among classes. The class that is being inherited\n",
    "from is called the \"base class\" or \"parent class,\" and the class that inherits from the base class is called the \"derived class\" or \"child class.\"'''\n",
    "\n",
    "\n",
    "#Single Inheritance\n",
    "\n",
    "class Vehicle:\n",
    "    def __init__(self, brand):\n",
    "        self.brand = brand\n",
    "\n",
    "    def drive(self):\n",
    "        print(\"Driving a vehicle\")\n",
    "\n",
    "class Car(Vehicle):\n",
    "    def __init__(self, brand, model):\n",
    "        super().__init__(brand)\n",
    "        self.model = model\n",
    "\n",
    "    def start_engine(self):\n",
    "        print(\"Engine started\")\n",
    "\n",
    "car = Car(\"Tata\", \"safari\")\n",
    "print(car.brand) \n",
    "car.drive()      \n",
    "car.start_engine()  \n",
    "\n",
    "\n",
    "#Multiple Inheritance\n",
    "\n",
    "class Base1:\n",
    "    def method1(self):\n",
    "        print(\"Method 1\")\n",
    "\n",
    "class Base2:\n",
    "    def method2(self):\n",
    "        print(\"Method 2\")\n",
    "\n",
    "class Derived(Base1, Base2):\n",
    "    def derived_method(self):\n",
    "        print(\"Derived method\")\n",
    "\n",
    "derived = Derived()\n",
    "derived.method1()       \n",
    "derived.method2()       \n",
    "derived.derived_method() \n"
   ]
  }
 ],
 "metadata": {
  "kernelspec": {
   "display_name": "Python 3 (ipykernel)",
   "language": "python",
   "name": "python3"
  },
  "language_info": {
   "codemirror_mode": {
    "name": "ipython",
    "version": 3
   },
   "file_extension": ".py",
   "mimetype": "text/x-python",
   "name": "python",
   "nbconvert_exporter": "python",
   "pygments_lexer": "ipython3",
   "version": "3.10.8"
  }
 },
 "nbformat": 4,
 "nbformat_minor": 5
}
